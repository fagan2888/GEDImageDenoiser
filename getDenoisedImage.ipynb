{
 "cells": [
  {
   "cell_type": "code",
   "execution_count": 8,
   "metadata": {
    "ExecuteTime": {
     "end_time": "2019-12-24T08:10:49.475476Z",
     "start_time": "2019-12-24T08:10:49.471430Z"
    }
   },
   "outputs": [],
   "source": [
    "import cv2\n",
    "import os\n",
    "import glob\n",
    "import numpy as np\n",
    "import torch\n",
    "import torch.nn as nn\n",
    "from torch.autograd import Variable\n",
    "from models import DnCNN\n",
    "from math import gamma\n",
    "from scipy.stats import gennorm\n",
    "from utils import *"
   ]
  },
  {
   "cell_type": "code",
   "execution_count": 9,
   "metadata": {
    "ExecuteTime": {
     "end_time": "2019-12-24T08:10:49.747916Z",
     "start_time": "2019-12-24T08:10:49.744924Z"
    }
   },
   "outputs": [],
   "source": [
    "# Please modified the following codes for your own use\n",
    "modelPath = 'beta2/org/logs/'+'model_29.pth'\n",
    "f = glob.glob(os.path.join('data', 'Set12', '02.png'))\n",
    "NoisyPictureName = 'beta10_TDist_Noisy02.png'\n",
    "CleanPictureName = 'beta10_TDist_Clean02.png'"
   ]
  },
  {
   "cell_type": "code",
   "execution_count": 10,
   "metadata": {
    "ExecuteTime": {
     "end_time": "2019-12-24T08:10:50.052559Z",
     "start_time": "2019-12-24T08:10:50.039560Z"
    }
   },
   "outputs": [],
   "source": [
    "def getSize(noise):\n",
    "    k = 1\n",
    "    for i in range(len(noise.size())):\n",
    "        k *= noise.size()[i]\n",
    "    return k\n",
    "\n",
    "def normalize(data):\n",
    "    return data/255.\n",
    "\n",
    "def unnormalize(data):\n",
    "    return data*255.\n",
    "def getAlpha(std, beta):\n",
    "    return np.sqrt(np.square(std)/(gamma(3/beta)/gamma(1/beta)))\n",
    "def getDenoisedImage(modelPath, f, NoisyPictureName, CleanPictureName, beta = 2):\n",
    "    ## Translate raw image\n",
    "    Img = cv2.imread(f[0])\n",
    "    Img = normalize(np.float32(Img[:,:,0]))\n",
    "    Img = np.expand_dims(Img, 0)\n",
    "    Img = np.expand_dims(Img, 1)\n",
    "    ISource = torch.Tensor(Img)\n",
    "\n",
    "    ## Add noise\n",
    "    flatSize = getSize(ISource)\n",
    "    alpha = getAlpha(25/225.,beta)\n",
    "    noise = torch.FloatTensor(gennorm.rvs(beta, scale = alpha, size = flatSize, random_state = None))\n",
    "    noise = noise.view(ISource.size())\n",
    "    INoisy = ISource + noise\n",
    "    INoisyTBSave = INoisy\n",
    "\n",
    "    ###Save Noisy picture\n",
    "    INoisyTBSave = INoisyTBSave[0,0,:,:]\n",
    "    INoisyTBSave = unnormalize(np.float32(INoisyTBSave))\n",
    "    INoisyTBSave = np.expand_dims(INoisyTBSave, 2)\n",
    "    cv2.imwrite(NoisyPictureName,INoisyTBSave)\n",
    "\n",
    "    ## Load Model\n",
    "    net = DnCNN(channels=1, num_of_layers=17)\n",
    "    device_ids = [0]\n",
    "    model = nn.DataParallel(net, device_ids=device_ids).cuda()\n",
    "    model.load_state_dict(torch.load(modelPath))\n",
    "    model.eval()\n",
    "\n",
    "    ## send noisy image to model\n",
    "    ISource, INoisy = Variable(ISource.cuda()), Variable(INoisy.cuda())\n",
    "    with torch.no_grad(): # this can save much memory\n",
    "        Out = torch.clamp(INoisy-model(INoisy), 0., 1.)\n",
    "\n",
    "    ### Save clean picture\n",
    "    Out = Out[0,0,:,:]\n",
    "    Out = unnormalize(np.float32(Out.cpu()))\n",
    "    Out = np.expand_dims(Out, 2)\n",
    "    cv2.imwrite(CleanPictureName,Out)\n",
    "    return Out"
   ]
  },
  {
   "cell_type": "code",
   "execution_count": 11,
   "metadata": {
    "ExecuteTime": {
     "end_time": "2019-12-24T08:10:53.795829Z",
     "start_time": "2019-12-24T08:10:50.703262Z"
    }
   },
   "outputs": [
    {
     "data": {
      "text/plain": [
       "array([[[193.9227  ],\n",
       "        [195.8329  ],\n",
       "        [195.90233 ],\n",
       "        ...,\n",
       "        [195.99063 ],\n",
       "        [192.4937  ],\n",
       "        [202.33255 ]],\n",
       "\n",
       "       [[200.88963 ],\n",
       "        [199.75377 ],\n",
       "        [203.22684 ],\n",
       "        ...,\n",
       "        [193.62685 ],\n",
       "        [180.35283 ],\n",
       "        [191.77849 ]],\n",
       "\n",
       "       [[196.76936 ],\n",
       "        [201.41792 ],\n",
       "        [216.84291 ],\n",
       "        ...,\n",
       "        [192.14557 ],\n",
       "        [180.17471 ],\n",
       "        [193.42036 ]],\n",
       "\n",
       "       ...,\n",
       "\n",
       "       [[183.11514 ],\n",
       "        [180.10994 ],\n",
       "        [183.53603 ],\n",
       "        ...,\n",
       "        [ 81.014725],\n",
       "        [101.56604 ],\n",
       "        [148.68913 ]],\n",
       "\n",
       "       [[179.89783 ],\n",
       "        [180.33757 ],\n",
       "        [179.69196 ],\n",
       "        ...,\n",
       "        [ 72.41376 ],\n",
       "        [115.64726 ],\n",
       "        [148.24005 ]],\n",
       "\n",
       "       [[179.18526 ],\n",
       "        [183.7517  ],\n",
       "        [182.59023 ],\n",
       "        ...,\n",
       "        [ 90.70247 ],\n",
       "        [134.46954 ],\n",
       "        [146.34625 ]]], dtype=float32)"
      ]
     },
     "execution_count": 11,
     "metadata": {},
     "output_type": "execute_result"
    }
   ],
   "source": [
    "getDenoisedImage(modelPath, f, NoisyPictureName, CleanPictureName, beta = 2)"
   ]
  },
  {
   "cell_type": "code",
   "execution_count": null,
   "metadata": {},
   "outputs": [],
   "source": []
  }
 ],
 "metadata": {
  "kernelspec": {
   "display_name": "Python 3",
   "language": "python",
   "name": "python3"
  },
  "language_info": {
   "codemirror_mode": {
    "name": "ipython",
    "version": 3
   },
   "file_extension": ".py",
   "mimetype": "text/x-python",
   "name": "python",
   "nbconvert_exporter": "python",
   "pygments_lexer": "ipython3",
   "version": "3.7.3"
  }
 },
 "nbformat": 4,
 "nbformat_minor": 2
}
