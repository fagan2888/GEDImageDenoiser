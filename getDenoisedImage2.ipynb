{
 "cells": [
  {
   "cell_type": "code",
   "execution_count": 2,
   "metadata": {
    "ExecuteTime": {
     "end_time": "2019-12-24T08:08:30.878533Z",
     "start_time": "2019-12-24T08:08:29.765760Z"
    }
   },
   "outputs": [],
   "source": [
    "import cv2\n",
    "import os\n",
    "import glob\n",
    "import numpy as np\n",
    "import torch\n",
    "import torch.nn as nn\n",
    "from torch.autograd import Variable\n",
    "from models import DnCNN\n",
    "from utils import *"
   ]
  },
  {
   "cell_type": "code",
   "execution_count": 7,
   "metadata": {
    "ExecuteTime": {
     "end_time": "2019-12-24T08:09:07.017492Z",
     "start_time": "2019-12-24T08:09:07.013522Z"
    }
   },
   "outputs": [],
   "source": [
    "# Please modified the following codes for your own use\n",
    "modelPath = 'beta2/org/logs/'+'model_29.pth'\n",
    "f = glob.glob(os.path.join('data', 'Set12', '02.png'))\n",
    "NoisyPictureName = 'beta10_TDist_Noisy02.png'\n",
    "CleanPictureName = 'beta10_TDist_Clean02.png'"
   ]
  },
  {
   "cell_type": "code",
   "execution_count": 8,
   "metadata": {
    "ExecuteTime": {
     "end_time": "2019-12-24T08:09:07.269175Z",
     "start_time": "2019-12-24T08:09:07.262070Z"
    }
   },
   "outputs": [],
   "source": [
    "def getSize(noise):\n",
    "    k = 1\n",
    "    for i in range(len(noise.size())):\n",
    "        k *= noise.size()[i]\n",
    "    return k\n",
    "\n",
    "def normalize(data):\n",
    "    return data/255.\n",
    "\n",
    "def unnormalize(data):\n",
    "    return data*255.\n",
    "\n",
    "def getDenoisedImage(modelPath, f, NoisyPictureName, CleanPictureName):\n",
    "    ## Translate raw image\n",
    "    Img = cv2.imread(f[0])\n",
    "    Img = normalize(np.float32(Img[:,:,0]))\n",
    "    Img = np.expand_dims(Img, 0)\n",
    "    Img = np.expand_dims(Img, 1)\n",
    "    ISource = torch.Tensor(Img)\n",
    "\n",
    "    ## Load Model\n",
    "    net = DnCNN(channels=1, num_of_layers=17)\n",
    "    device_ids = [0]\n",
    "    model = nn.DataParallel(net, device_ids=device_ids).cuda()\n",
    "    model.load_state_dict(torch.load(modelPath))\n",
    "    model.eval()\n",
    "\n",
    "    ## send noisy image to model\n",
    "    INoisy = Variable(ISource.cuda())\n",
    "    with torch.no_grad(): # this can save much memory\n",
    "        Out = torch.clamp(INoisy-model(INoisy), 0., 1.)\n",
    "\n",
    "    ### Save clean picture\n",
    "    Out = Out[0,0,:,:]\n",
    "    Out = unnormalize(np.float32(Out.cpu()))\n",
    "    Out = np.expand_dims(Out, 2)\n",
    "    cv2.imwrite(CleanPictureName,Out)\n",
    "    return Out"
   ]
  },
  {
   "cell_type": "code",
   "execution_count": 9,
   "metadata": {
    "ExecuteTime": {
     "end_time": "2019-12-24T08:09:08.992196Z",
     "start_time": "2019-12-24T08:09:07.814826Z"
    }
   },
   "outputs": [
    {
     "data": {
      "text/plain": [
       "array([[[189.28908],\n",
       "        [187.24277],\n",
       "        [187.12724],\n",
       "        ...,\n",
       "        [188.33322],\n",
       "        [189.7151 ],\n",
       "        [189.3673 ]],\n",
       "\n",
       "       [[187.94682],\n",
       "        [187.48846],\n",
       "        [186.91397],\n",
       "        ...,\n",
       "        [188.18411],\n",
       "        [188.1855 ],\n",
       "        [189.05568]],\n",
       "\n",
       "       [[185.32999],\n",
       "        [188.16043],\n",
       "        [186.12874],\n",
       "        ...,\n",
       "        [189.82497],\n",
       "        [188.63443],\n",
       "        [188.38101]],\n",
       "\n",
       "       ...,\n",
       "\n",
       "       [[185.50818],\n",
       "        [186.34338],\n",
       "        [186.20367],\n",
       "        ...,\n",
       "        [ 71.41615],\n",
       "        [ 81.80678],\n",
       "        [168.58908]],\n",
       "\n",
       "       [[186.8643 ],\n",
       "        [186.99394],\n",
       "        [186.23277],\n",
       "        ...,\n",
       "        [ 78.76458],\n",
       "        [ 89.55288],\n",
       "        [168.17632]],\n",
       "\n",
       "       [[184.66948],\n",
       "        [185.42384],\n",
       "        [186.3247 ],\n",
       "        ...,\n",
       "        [ 85.47925],\n",
       "        [ 90.25541],\n",
       "        [165.76105]]], dtype=float32)"
      ]
     },
     "execution_count": 9,
     "metadata": {},
     "output_type": "execute_result"
    }
   ],
   "source": [
    "#Example\n",
    "getDenoisedImage(modelPath, f, NoisyPictureName, CleanPictureName)"
   ]
  },
  {
   "cell_type": "code",
   "execution_count": null,
   "metadata": {},
   "outputs": [],
   "source": []
  }
 ],
 "metadata": {
  "kernelspec": {
   "display_name": "Python 3",
   "language": "python",
   "name": "python3"
  },
  "language_info": {
   "codemirror_mode": {
    "name": "ipython",
    "version": 3
   },
   "file_extension": ".py",
   "mimetype": "text/x-python",
   "name": "python",
   "nbconvert_exporter": "python",
   "pygments_lexer": "ipython3",
   "version": "3.7.3"
  }
 },
 "nbformat": 4,
 "nbformat_minor": 2
}
