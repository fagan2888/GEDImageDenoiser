{
 "cells": [
  {
   "cell_type": "code",
   "execution_count": 1,
   "metadata": {
    "ExecuteTime": {
     "end_time": "2019-12-24T07:41:06.280573Z",
     "start_time": "2019-12-24T07:41:05.803041Z"
    }
   },
   "outputs": [
    {
     "ename": "ModuleNotFoundError",
     "evalue": "No module named 'models'",
     "output_type": "error",
     "traceback": [
      "\u001b[1;31m---------------------------------------------------------------------------\u001b[0m",
      "\u001b[1;31mModuleNotFoundError\u001b[0m                       Traceback (most recent call last)",
      "\u001b[1;32m<ipython-input-1-2db1b99b6e31>\u001b[0m in \u001b[0;36m<module>\u001b[1;34m\u001b[0m\n\u001b[0;32m      6\u001b[0m \u001b[1;32mimport\u001b[0m \u001b[0mtorch\u001b[0m\u001b[1;33m.\u001b[0m\u001b[0mnn\u001b[0m \u001b[1;32mas\u001b[0m \u001b[0mnn\u001b[0m\u001b[1;33m\u001b[0m\u001b[1;33m\u001b[0m\u001b[0m\n\u001b[0;32m      7\u001b[0m \u001b[1;32mfrom\u001b[0m \u001b[0mtorch\u001b[0m\u001b[1;33m.\u001b[0m\u001b[0mautograd\u001b[0m \u001b[1;32mimport\u001b[0m \u001b[0mVariable\u001b[0m\u001b[1;33m\u001b[0m\u001b[1;33m\u001b[0m\u001b[0m\n\u001b[1;32m----> 8\u001b[1;33m \u001b[1;32mfrom\u001b[0m \u001b[0mmodels\u001b[0m \u001b[1;32mimport\u001b[0m \u001b[0mDnCNN\u001b[0m\u001b[1;33m\u001b[0m\u001b[1;33m\u001b[0m\u001b[0m\n\u001b[0m\u001b[0;32m      9\u001b[0m \u001b[1;32mfrom\u001b[0m \u001b[0mutils\u001b[0m \u001b[1;32mimport\u001b[0m \u001b[1;33m*\u001b[0m\u001b[1;33m\u001b[0m\u001b[1;33m\u001b[0m\u001b[0m\n",
      "\u001b[1;31mModuleNotFoundError\u001b[0m: No module named 'models'"
     ]
    }
   ],
   "source": [
    "import cv2\n",
    "import os\n",
    "import glob\n",
    "import numpy as np\n",
    "import torch\n",
    "import torch.nn as nn\n",
    "from torch.autograd import Variable\n",
    "from models import DnCNN\n",
    "from utils import *"
   ]
  },
  {
   "cell_type": "code",
   "execution_count": null,
   "metadata": {
    "ExecuteTime": {
     "end_time": "2019-12-24T07:41:06.282227Z",
     "start_time": "2019-12-24T07:41:05.971Z"
    }
   },
   "outputs": [],
   "source": [
    "# Please modified the following codes for your own use\n",
    "modelPath = 'finalnew/beta10/'+'model_29.pth'\n",
    "f = glob.glob(os.path.join('data', 'Set12', '02.png'))\n",
    "NoisyPictureName = 'beta10_TDist_Noisy02.png'\n",
    "CleanPictureName = 'beta10_TDist_Clean02.png'"
   ]
  },
  {
   "cell_type": "code",
   "execution_count": null,
   "metadata": {},
   "outputs": [],
   "source": [
    "\n",
    "def getSize(noise):\n",
    "    k = 1\n",
    "    for i in range(len(noise.size())):\n",
    "        k *= noise.size()[i]\n",
    "    return k\n",
    "\n",
    "def normalize(data):\n",
    "    return data/255.\n",
    "\n",
    "def unnormalize(data):\n",
    "    return data*255.\n",
    "def getDenoisedImage(modelPath, file, NoisyPictureName, CleanPictureName)\n",
    "    ## Translate raw image\n",
    "    Img = cv2.imread(f[0])\n",
    "    Img = normalize(np.float32(Img[:,:,0]))\n",
    "    Img = np.expand_dims(Img, 0)\n",
    "    Img = np.expand_dims(Img, 1)\n",
    "    ISource = torch.Tensor(Img)\n",
    "\n",
    "    ## Add noise\n",
    "    flatSize = getSize(ISource)\n",
    "    noise = torch.FloatTensor(t.rvs(5.2, size=flatSize))\n",
    "    noise = noise.view(ISource.size())\n",
    "    INoisy = ISource + noise\n",
    "    INoisyTBSave = INoisy\n",
    "\n",
    "    ###Save Noisy picture\n",
    "    INoisyTBSave = INoisyTBSave[0,0,:,:]\n",
    "    INoisyTBSave = unnormalize(np.float32(INoisyTBSave))\n",
    "    INoisyTBSave = np.expand_dims(INoisyTBSave, 2)\n",
    "    cv2.imwrite(NoisyPictureName,INoisyTBSave)\n",
    "\n",
    "    ## Load Model\n",
    "    net = DnCNN(channels=1, num_of_layers=17)\n",
    "    device_ids = [0]\n",
    "    model = nn.DataParallel(net, device_ids=device_ids).cuda()\n",
    "    model.load_state_dict(torch.load(modelPath))\n",
    "    model.eval()\n",
    "\n",
    "    ## send noisy image to model\n",
    "    ISource, INoisy = Variable(ISource.cuda()), Variable(INoisy.cuda())\n",
    "    with torch.no_grad(): # this can save much memory\n",
    "        Out = torch.clamp(INoisy-model(INoisy), 0., 1.)\n",
    "\n",
    "    ### Save clean picture\n",
    "    Out = Out[0,0,:,:]\n",
    "    Out = unnormalize(np.float32(Out.cpu()))\n",
    "    Out = np.expand_dims(Out, 2)\n",
    "    cv2.imwrite(CleanPictureName,Out)\n",
    "    return Out"
   ]
  }
 ],
 "metadata": {
  "kernelspec": {
   "display_name": "Python 3",
   "language": "python",
   "name": "python3"
  },
  "language_info": {
   "codemirror_mode": {
    "name": "ipython",
    "version": 3
   },
   "file_extension": ".py",
   "mimetype": "text/x-python",
   "name": "python",
   "nbconvert_exporter": "python",
   "pygments_lexer": "ipython3",
   "version": "3.7.3"
  }
 },
 "nbformat": 4,
 "nbformat_minor": 2
}
