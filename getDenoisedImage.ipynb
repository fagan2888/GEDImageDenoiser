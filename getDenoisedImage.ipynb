{
 "cells": [
  {
   "cell_type": "code",
   "execution_count": 1,
   "metadata": {
    "ExecuteTime": {
     "end_time": "2019-12-24T07:53:56.292898Z",
     "start_time": "2019-12-24T07:53:55.219800Z"
    }
   },
   "outputs": [],
   "source": [
    "import cv2\n",
    "import os\n",
    "import glob\n",
    "import numpy as np\n",
    "import torch\n",
    "import torch.nn as nn\n",
    "from torch.autograd import Variable\n",
    "from models import DnCNN\n",
    "from utils import *"
   ]
  },
  {
   "cell_type": "code",
   "execution_count": 2,
   "metadata": {
    "ExecuteTime": {
     "end_time": "2019-12-24T07:53:59.851014Z",
     "start_time": "2019-12-24T07:53:59.846994Z"
    }
   },
   "outputs": [],
   "source": [
    "# Please modified the following codes for your own use\n",
    "modelPath = 'finalnew/beta10/'+'model_29.pth'\n",
    "f = glob.glob(os.path.join('data', 'Set12', '02.png'))\n",
    "NoisyPictureName = 'beta10_TDist_Noisy02.png'\n",
    "CleanPictureName = 'beta10_TDist_Clean02.png'"
   ]
  },
  {
   "cell_type": "code",
   "execution_count": null,
   "metadata": {},
   "outputs": [],
   "source": [
    "def getSize(noise):\n",
    "    k = 1\n",
    "    for i in range(len(noise.size())):\n",
    "        k *= noise.size()[i]\n",
    "    return k\n",
    "\n",
    "def normalize(data):\n",
    "    return data/255.\n",
    "\n",
    "def unnormalize(data):\n",
    "    return data*255.\n",
    "\n",
    "def getDenoisedImage(modelPath, f, NoisyPictureName, CleanPictureName, beta = 2):\n",
    "    ## Translate raw image\n",
    "    Img = cv2.imread(f[0])\n",
    "    Img = normalize(np.float32(Img[:,:,0]))\n",
    "    Img = np.expand_dims(Img, 0)\n",
    "    Img = np.expand_dims(Img, 1)\n",
    "    ISource = torch.Tensor(Img)\n",
    "\n",
    "    ## Add noise\n",
    "    flatSize = getSize(ISource)\n",
    "    alpha = getAlpha(25/225.,beta)\n",
    "    noise = torch.FloatTensor(gennorm.rvs(beta, scale = alpha, size = flatSize, random_state = None))\n",
    "    noise = noise.view(ISource.size())\n",
    "    INoisy = ISource + noise\n",
    "    INoisyTBSave = INoisy\n",
    "\n",
    "    ###Save Noisy picture\n",
    "    INoisyTBSave = INoisyTBSave[0,0,:,:]\n",
    "    INoisyTBSave = unnormalize(np.float32(INoisyTBSave))\n",
    "    INoisyTBSave = np.expand_dims(INoisyTBSave, 2)\n",
    "    cv2.imwrite(NoisyPictureName,INoisyTBSave)\n",
    "\n",
    "    ## Load Model\n",
    "    net = DnCNN(channels=1, num_of_layers=17)\n",
    "    device_ids = [0]\n",
    "    model = nn.DataParallel(net, device_ids=device_ids).cuda()\n",
    "    model.load_state_dict(torch.load(modelPath))\n",
    "    model.eval()\n",
    "\n",
    "    ## send noisy image to model\n",
    "    ISource, INoisy = Variable(ISource.cuda()), Variable(INoisy.cuda())\n",
    "    with torch.no_grad(): # this can save much memory\n",
    "        Out = torch.clamp(INoisy-model(INoisy), 0., 1.)\n",
    "\n",
    "    ### Save clean picture\n",
    "    Out = Out[0,0,:,:]\n",
    "    Out = unnormalize(np.float32(Out.cpu()))\n",
    "    Out = np.expand_dims(Out, 2)\n",
    "    cv2.imwrite(CleanPictureName,Out)\n",
    "    return Out"
   ]
  }
 ],
 "metadata": {
  "kernelspec": {
   "display_name": "Python 3",
   "language": "python",
   "name": "python3"
  },
  "language_info": {
   "codemirror_mode": {
    "name": "ipython",
    "version": 3
   },
   "file_extension": ".py",
   "mimetype": "text/x-python",
   "name": "python",
   "nbconvert_exporter": "python",
   "pygments_lexer": "ipython3",
   "version": "3.7.3"
  }
 },
 "nbformat": 4,
 "nbformat_minor": 2
}
